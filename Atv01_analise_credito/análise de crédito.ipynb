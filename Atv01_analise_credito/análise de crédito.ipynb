{
 "cells": [
  {
   "cell_type": "code",
   "execution_count": null,
   "metadata": {},
   "outputs": [],
   "source": [
    "#Carregando bibs\n",
    "\n",
    "import pandas as pd\n",
    "\n",
    "import seaborn as sns\n",
    "import matplotlib.pyplot as plt\n",
    "\n",
    "from sklearn.model_selection import train_test_split\n",
    "from sklearn import metrics\n",
    "from sklearn.ensemble import RandomForestClassifier\n"
   ]
  },
  {
   "cell_type": "code",
   "execution_count": null,
   "outputs": [],
   "source": [
    "\n",
    "#Carregamento de dados\n",
    "# Observe que demo01.csv está na mesma pasta que este notebook\n",
    "# do contrário, seria necessário indicar a pasta no nome do arquivo\n",
    "\n",
    "df = pd.read_csv('demo01.csv')\n",
    "print (\"Número de linhas e colunas da tabela: {}\".format(df.shape))\n",
    "\n",
    "df.head()\n",
    "\n"
   ],
   "metadata": {
    "collapsed": false
   }
  },
  {
   "cell_type": "code",
   "execution_count": null,
   "outputs": [],
   "source": [
    "# Interpretando dados - Univariada\n",
    "print(df['mau'].value_counts())\n",
    "print(\"\\nTaxa de inadimplentes:\")\n",
    "print(df['mau'].mean())\n",
    "print()\n",
    "\n",
    "#Gráfico de barras com os mesmos dados anteriores\n",
    "var = 'mau'\n",
    "grafico_barras = df[var].value_counts().plot.bar()\n",
    "\n"
   ],
   "metadata": {
    "collapsed": false
   }
  },
  {
   "cell_type": "code",
   "execution_count": null,
   "outputs": [],
   "source": [
    "'''Tarefa 01 - gráfico de barras\n",
    "Com base no código da célula anterior, construa um gráfico de barras para pelo menos duas outras variáveis.\n",
    "'''\n",
    "plt.clf()\n",
    "var_pess_red = \"qt_pessoas_residencia\"\n",
    "var_est_civi = \"sexo\"\n",
    "\n",
    "sns.displot(df, x = var_pess_red, bins = 50)\n",
    "plt.show()\n",
    "sns.displot(df, x = var_est_civi, bins = 50)\n",
    "plt.show()\n"
   ],
   "metadata": {
    "collapsed": false
   }
  },
  {
   "cell_type": "code",
   "execution_count": null,
   "outputs": [],
   "source": [
    "# Alterando valores de -1000 pra -2, para visualizar melhor no gráfico\n",
    "# Mostrar tempo emprego\n",
    "var_temp_empr = \"tempo_emprego\"\n",
    "df.loc[df[var]<0,var_temp_empr] = -2\n",
    "\n",
    "plt.clf()\n",
    "var_temp_empr = \"tempo_emprego\"\n",
    "\n",
    "sns.displot(df, x = var_temp_empr, bins = 50)\n",
    "plt.show()"
   ],
   "metadata": {
    "collapsed": false
   }
  },
  {
   "cell_type": "code",
   "execution_count": null,
   "outputs": [],
   "source": [
    "'''\n",
    "Tarefa 02 - Histograma\n",
    "Com base no código da célula anterior, construa o histograma da variavel `idade`\n",
    "'''\n",
    "var_idade = \"idade\"\n",
    "df.loc[df[var_idade]<0,var_idade] = -2\n",
    "plt.clf()\n",
    "var_idade = \"idade\"\n",
    "\n",
    "sns.displot(df, x = var_idade, bins = 50)\n",
    "plt.show()"
   ],
   "metadata": {
    "collapsed": false
   }
  },
  {
   "cell_type": "code",
   "execution_count": null,
   "outputs": [],
   "source": [
    "'''Entendimento dos dados - Bivariadas\n",
    "Entender a alteração da inadimplência indicada pela variável resposta (```AtrasoRelevante2anos```) e as variáveis explicativas (demais). Para isto, vamos calcular a taxa de inadimplentes (qtd inadimplentes / total) para diferentes grupos definidos pelas variáveis explicativas.\n",
    "'''\n",
    "var_idade = 'idade'\n",
    "cat_srs, bins = pd.qcut(df[var_idade], 4, retbins=True)\n",
    "g = df.groupby(cat_srs)\n",
    "biv = g['mau'].mean()\n",
    "\n",
    "ax = biv.plot.line()\n",
    "ax.set_ylabel(\"Proporção de inadimplentes\")\n",
    "ticks = plt.xticks(range(len(biv.index.values)), biv.index.values, rotation = 90)"
   ],
   "metadata": {
    "collapsed": false
   }
  },
  {
   "cell_type": "code",
   "execution_count": null,
   "outputs": [],
   "source": [
    "'''Tarefa 03 - Bivariada\n",
    "Com base no código da célula anterior, construa uma análise bivariada para a variável tempo_emprego. Em seguida, insira uma célula de markdown e conclua se a variável parece discriminar risco de crédito.\n",
    "'''\n",
    "var_temp_empr = 'tempo_emprego'\n",
    "df.loc[df[var_temp_empr]<0,var_temp_empr] = -2\n",
    "cat_srs, bins = pd.qcut(df[var_temp_empr], 4, retbins=True)\n",
    "g = df.groupby(cat_srs)\n",
    "biv = g['mau'].mean()\n",
    "\n",
    "ax = biv.plot.line()\n",
    "ax.set_ylabel(\"Proporção de inadimplentes\")\n",
    "ticks = plt.xticks(range(len(biv.index.values)), biv.index.values, rotation = 90)\n"
   ],
   "metadata": {
    "collapsed": false
   }
  },
  {
   "cell_type": "markdown",
   "source": [
    "## Conforme o gráfico mostra, a inadimplência é inversamente proporcional ao tempo de emprego"
   ],
   "metadata": {
    "collapsed": false
   }
  },
  {
   "cell_type": "code",
   "execution_count": null,
   "outputs": [],
   "source": [
    "'''\n",
    "## Etapa 3 Crisp-DM: Preparação dos dados\n",
    "Os dados já estão pré-selecionados, construídos e integrados, mas há dados faltantes que serão eliminados na próxima célula\n",
    "\n",
    "'''\n",
    "metadata = pd.DataFrame(df.dtypes, columns = ['tipo'])\n",
    "\n",
    "metadata['n_categorias'] = 0\n",
    "\n",
    "for var in metadata.index:\n",
    "    metadata.loc[var,'n_categorias'] = len(df.groupby([var]).size())\n",
    "\n",
    "metadata"
   ],
   "metadata": {
    "collapsed": false
   }
  },
  {
   "cell_type": "code",
   "execution_count": null,
   "outputs": [],
   "source": [
    "def convert_dummy(df, feature,rank=0):\n",
    "    pos = pd.get_dummies(df[feature], prefix=feature)\n",
    "    mode = df[feature].value_counts().index[rank]\n",
    "    biggest = feature + '_' + str(mode)\n",
    "    pos.drop([biggest],axis=1,inplace=True)\n",
    "    df.drop([feature],axis=1,inplace=True)\n",
    "    df=df.join(pos)\n",
    "    return df"
   ],
   "metadata": {
    "collapsed": false
   }
  },
  {
   "cell_type": "code",
   "execution_count": null,
   "outputs": [],
   "source": [
    "for var in metadata[metadata['tipo'] == 'object'].index:\n",
    "    df = convert_dummy(df, var)"
   ],
   "metadata": {
    "collapsed": false
   }
  },
  {
   "cell_type": "code",
   "execution_count": null,
   "outputs": [],
   "source": [
    "df"
   ],
   "metadata": {
    "collapsed": false
   }
  },
  {
   "cell_type": "code",
   "execution_count": null,
   "outputs": [],
   "source": [
    "'''\n",
    "Etapa 4 Crisp-DM: Modelagem\n",
    "Dividindo a base em treino e teste\n",
    "'''\n",
    "# Tirando a v. resposta da base de treinamento\n",
    "x = df.drop(\"mau\",axis = 1)\n",
    "y = df[\"mau\"]\n",
    "\n",
    "# Tirando ID da base de treinamento e teste\n",
    "x_train, x_test, y_train, y_test = train_test_split(x, y)\n",
    "x_train"
   ],
   "metadata": {
    "collapsed": false
   }
  },
  {
   "cell_type": "code",
   "execution_count": null,
   "outputs": [],
   "source": [
    "# Treinar uma Random Forest com 5 árvores\n",
    "\n",
    "clf = RandomForestClassifier(n_estimators=3)\n",
    "clf.fit(x_train,y_train)"
   ],
   "metadata": {
    "collapsed": false
   }
  },
  {
   "cell_type": "code",
   "execution_count": null,
   "outputs": [],
   "source": [
    "# Calculando a acuracia\n",
    "\n",
    "y_pred = clf.predict(x_test)\n",
    "acc = metrics.accuracy_score(y_test, y_pred)\n",
    "print('Acurácia: {0:.2f}%'.format(acc*100))"
   ],
   "metadata": {
    "collapsed": false
   }
  },
  {
   "cell_type": "code",
   "execution_count": null,
   "outputs": [],
   "source": [
    "# Matriz de confusão\n",
    "\n",
    "tab = pd.crosstab(index = y_pred, columns = y_test)\n",
    "print(tab[1][0]/(tab[1][0] + tab[0][0]))\n",
    "print(tab[1][1]/(tab[1][1] + tab[0][1]))\n",
    "tab"
   ],
   "metadata": {
    "collapsed": false
   }
  },
  {
   "cell_type": "code",
   "execution_count": null,
   "outputs": [],
   "source": [
    "'''\n",
    "Tarefa 04 - Bivariada\n",
    "Para essa tarefa, crie três células extras, e altere o parâmetro n_estimators= da função RandomForestClassifier e insira uma quantidade maior que 3 nesse parâmetro. Rode as três células anteriores para calcular a acurácia do modelo e veja se você consegue uma acurácia melhor.\n",
    "'''\n",
    "# Treinar uma Random Forest com 5 árvores\n",
    "\n",
    "clf = RandomForestClassifier(n_estimators=99)\n",
    "clf.fit(x_train,y_train)\n",
    "\n",
    "# Calculando a acuracia\n",
    "\n",
    "y_pred = clf.predict(x_test)\n",
    "acc = metrics.accuracy_score(y_test, y_pred)\n",
    "print('Acurácia: {0:.2f}%'.format(acc*100))\n",
    "\n",
    "# Matriz de confusão\n",
    "\n",
    "tab = pd.crosstab(index = y_pred, columns = y_test)\n",
    "print(tab[1][0]/(tab[1][0] + tab[0][0]))\n",
    "print(tab[1][1]/(tab[1][1] + tab[0][1]))\n",
    "tab"
   ],
   "metadata": {
    "collapsed": false
   }
  },
  {
   "cell_type": "markdown",
   "source": [
    "#Etapa 5 Crisp-DM: Avaliação dos resultados"
   ],
   "metadata": {
    "collapsed": false
   }
  },
  {
   "cell_type": "markdown",
   "source": [
    "#Etapa 6 Crisp-DM: Implantação"
   ],
   "metadata": {
    "collapsed": false
   }
  }
 ],
 "metadata": {
  "kernelspec": {
   "display_name": "Python 3",
   "language": "python",
   "name": "python3"
  },
  "language_info": {
   "codemirror_mode": {
    "name": "ipython",
    "version": 3
   },
   "file_extension": ".py",
   "mimetype": "text/x-python",
   "name": "python",
   "nbconvert_exporter": "python",
   "pygments_lexer": "ipython3",
   "version": "3.7.3"
  }
 },
 "nbformat": 4,
 "nbformat_minor": 2
}
